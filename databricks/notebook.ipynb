{
 "cells": [
  {
   "cell_type": "code",
   "execution_count": null,
   "metadata": {
    "application/vnd.databricks.v1+cell": {
     "cellMetadata": {
      "byteLimit": 2048000,
      "rowLimit": 10000
     },
     "inputWidgets": {},
     "nuid": "386c5845-1bac-40bc-99fb-151d3bcb0ec6",
     "showTitle": false,
     "title": ""
    }
   },
   "outputs": [
    {
     "name": "stderr",
     "output_type": "stream",
     "text": [
      "INFO:py4j.clientserver:Received command c on object id p1\n"
     ]
    }
   ],
   "source": [
    "# install this maven lib to run\n",
    "# com.microsoft.azure:azure-eventhubs-spark_2.12:2.3.22 \n",
    "\n",
    "from pyspark.sql.functions import *\n",
    "from pyspark.sql.types import *"
   ]
  },
  {
   "cell_type": "code",
   "execution_count": null,
   "metadata": {
    "application/vnd.databricks.v1+cell": {
     "cellMetadata": {
      "byteLimit": 2048000,
      "implicitDf": true,
      "rowLimit": 10000
     },
     "inputWidgets": {},
     "nuid": "c45500d7-d692-4c90-8b9d-a56df768b1bc",
     "showTitle": false,
     "title": ""
    }
   },
   "outputs": [
    {
     "data": {
      "text/html": [
       "<style scoped>\n",
       "  .table-result-container {\n",
       "    max-height: 300px;\n",
       "    overflow: auto;\n",
       "  }\n",
       "  table, th, td {\n",
       "    border: 1px solid black;\n",
       "    border-collapse: collapse;\n",
       "  }\n",
       "  th, td {\n",
       "    padding: 5px;\n",
       "  }\n",
       "  th {\n",
       "    text-align: left;\n",
       "  }\n",
       "</style><div class='table-result-container'><table class='table-result'><thead style='background-color: white'><tr></tr></thead><tbody></tbody></table></div>"
      ]
     },
     "metadata": {
      "application/vnd.databricks.v1+output": {
       "addedWidgets": {},
       "aggData": [],
       "aggError": "",
       "aggOverflow": false,
       "aggSchema": [],
       "aggSeriesLimitReached": false,
       "aggType": "",
       "arguments": {},
       "columnCustomDisplayInfos": {},
       "data": [],
       "datasetInfos": [],
       "dbfsResultPath": null,
       "isJsonSchema": true,
       "metadata": {
        "dataframeName": null
       },
       "overflow": false,
       "plotOptions": {
        "customPlotOptions": {},
        "displayType": "table",
        "pivotAggregation": null,
        "pivotColumns": null,
        "xColumns": null,
        "yColumns": null
       },
       "removedWidgets": [],
       "schema": [],
       "type": "table"
      }
     },
     "output_type": "display_data"
    }
   ],
   "source": [
    "%sql\n",
    "CREATE CATALOG IF NOT EXISTS streaming MANAGED LOCATION '';\n",
    "CREATE SCHEMA IF NOT EXISTS streaming.bronze;\n",
    "CREATE SCHEMA IF NOT EXISTS streaming.silver;\n",
    "CREATE SCHEMA IF NOT EXISTS streaming.gold;\n"
   ]
  },
  {
   "cell_type": "code",
   "execution_count": null,
   "metadata": {
    "application/vnd.databricks.v1+cell": {
     "cellMetadata": {
      "byteLimit": 2048000,
      "implicitDf": true,
      "rowLimit": 10000
     },
     "inputWidgets": {},
     "nuid": "85d4b6c9-378f-4a66-a27a-6e3ba13804a6",
     "showTitle": false,
     "title": ""
    }
   },
   "outputs": [
    {
     "data": {
      "text/html": [
       "<style scoped>\n",
       "  .table-result-container {\n",
       "    max-height: 300px;\n",
       "    overflow: auto;\n",
       "  }\n",
       "  table, th, td {\n",
       "    border: 1px solid black;\n",
       "    border-collapse: collapse;\n",
       "  }\n",
       "  th, td {\n",
       "    padding: 5px;\n",
       "  }\n",
       "  th {\n",
       "    text-align: left;\n",
       "  }\n",
       "</style><div class='table-result-container'><table class='table-result'><thead style='background-color: white'><tr></tr></thead><tbody></tbody></table></div>"
      ]
     },
     "metadata": {
      "application/vnd.databricks.v1+output": {
       "addedWidgets": {},
       "aggData": [],
       "aggError": "",
       "aggOverflow": false,
       "aggSchema": [],
       "aggSeriesLimitReached": false,
       "aggType": "",
       "arguments": {},
       "columnCustomDisplayInfos": {},
       "data": [],
       "datasetInfos": [],
       "dbfsResultPath": null,
       "isJsonSchema": true,
       "metadata": {
        "dataframeName": null
       },
       "overflow": false,
       "plotOptions": {
        "customPlotOptions": {},
        "displayType": "table",
        "pivotAggregation": null,
        "pivotColumns": null,
        "xColumns": null,
        "yColumns": null
       },
       "removedWidgets": [],
       "schema": [],
       "type": "table"
      }
     },
     "output_type": "display_data"
    }
   ],
   "source": [
    "%sql\n",
    "DROP  CATALOG IF EXISTS streaming CASCADE;\n",
    "DROP SCHEMA IF  EXISTS streaming.bronze CASCADE ;\n",
    "DROP SCHEMA IF  EXISTS streaming.silver CASCADE ;\n",
    "DROP SCHEMA IF EXISTS streaming.gold CASCADE ;"
   ]
  },
  {
   "cell_type": "code",
   "execution_count": null,
   "metadata": {
    "application/vnd.databricks.v1+cell": {
     "cellMetadata": {
      "byteLimit": 2048000,
      "rowLimit": 10000
     },
     "inputWidgets": {},
     "nuid": "32ec6d21-ab2e-407d-9526-7f05514690c4",
     "showTitle": false,
     "title": ""
    }
   },
   "outputs": [
    {
     "data": {
      "text/html": [
       "<style scoped>\n",
       "  .table-result-container {\n",
       "    max-height: 300px;\n",
       "    overflow: auto;\n",
       "  }\n",
       "  table, th, td {\n",
       "    border: 1px solid black;\n",
       "    border-collapse: collapse;\n",
       "  }\n",
       "  th, td {\n",
       "    padding: 5px;\n",
       "  }\n",
       "  th {\n",
       "    text-align: left;\n",
       "  }\n",
       "</style><div class='table-result-container'><table class='table-result'><thead style='background-color: white'><tr><th>body</th><th>partition</th><th>offset</th><th>sequenceNumber</th><th>enqueuedTime</th><th>publisher</th><th>partitionKey</th><th>properties</th><th>systemProperties</th></tr></thead><tbody><tr><td>eydldmVudF90eXBlJzogJ3RyYWRlJywgJ2V2ZW50X3RpbWUnOiAnMTcwOTY2NzM3NDQxOScsICdzeW1ib2wnOiAnQk5CQlRDJywgJ3RyYWRlX2lkJzogJzIzNTA2OTM0MCcsICdwcmljZSc6ICcwLjAwNjM1MjAwJywgJ3F1YW4= (truncated)</td><td>4</td><td>90528</td><td>235</td><td>2024-03-05T19:36:16.227Z</td><td>null</td><td>BNBBTC</td><td>Map()</td><td>Map(x-opt-sequence-number-epoch -> -1, x-opt-partition-key -> BNBBTC)</td></tr><tr><td>eydldmVudF90eXBlJzogJ3RyYWRlJywgJ2V2ZW50X3RpbWUnOiAnMTcwOTY2NzM3NDYwMScsICdzeW1ib2wnOiAnRVRIQlRDJywgJ3RyYWRlX2lkJzogJzQzNDk4OTI5NicsICdwcmljZSc6ICcwLjA1NjQwMDAwJywgJ3F1YW4= (truncated)</td><td>5</td><td>109264</td><td>284</td><td>2024-03-05T19:36:18.467Z</td><td>null</td><td>ETHBTC</td><td>Map()</td><td>Map(x-opt-sequence-number-epoch -> -1, x-opt-partition-key -> ETHBTC)</td></tr><tr><td>eydldmVudF90eXBlJzogJ3RyYWRlJywgJ2V2ZW50X3RpbWUnOiAnMTcwOTY2NzM3NjI2MycsICdzeW1ib2wnOiAnQk5CQlRDJywgJ3RyYWRlX2lkJzogJzIzNTA2OTM0MScsICdwcmljZSc6ICcwLjAwNjM0OTAwJywgJ3F1YW4= (truncated)</td><td>4</td><td>90928</td><td>236</td><td>2024-03-05T19:36:20.648Z</td><td>null</td><td>BNBBTC</td><td>Map()</td><td>Map(x-opt-sequence-number-epoch -> -1, x-opt-partition-key -> BNBBTC)</td></tr><tr><td>eydldmVudF90eXBlJzogJ3RyYWRlJywgJ2V2ZW50X3RpbWUnOiAnMTcwOTY2NzM3NDY3OCcsICdzeW1ib2wnOiAnRVRIQlRDJywgJ3RyYWRlX2lkJzogJzQzNDk4OTI5NycsICdwcmljZSc6ICcwLjA1NjQwMDAwJywgJ3F1YW4= (truncated)</td><td>5</td><td>109664</td><td>285</td><td>2024-03-05T19:36:22.811Z</td><td>null</td><td>ETHBTC</td><td>Map()</td><td>Map(x-opt-sequence-number-epoch -> -1, x-opt-partition-key -> ETHBTC)</td></tr><tr><td>eydldmVudF90eXBlJzogJ3RyYWRlJywgJ2V2ZW50X3RpbWUnOiAnMTcwOTY2NzM3OTM2MycsICdzeW1ib2wnOiAnQk5CQlRDJywgJ3RyYWRlX2lkJzogJzIzNTA2OTM0MicsICdwcmljZSc6ICcwLjAwNjM1MDAwJywgJ3F1YW4= (truncated)</td><td>4</td><td>91328</td><td>237</td><td>2024-03-05T19:36:24.992Z</td><td>null</td><td>BNBBTC</td><td>Map()</td><td>Map(x-opt-sequence-number-epoch -> -1, x-opt-partition-key -> BNBBTC)</td></tr><tr><td>eydldmVudF90eXBlJzogJ3RyYWRlJywgJ2V2ZW50X3RpbWUnOiAnMTcwOTY2NzM3NDc2NCcsICdzeW1ib2wnOiAnRVRIQlRDJywgJ3RyYWRlX2lkJzogJzQzNDk4OTI5OCcsICdwcmljZSc6ICcwLjA1NjQwMDAwJywgJ3F1YW4= (truncated)</td><td>5</td><td>110064</td><td>286</td><td>2024-03-05T19:36:27.17Z</td><td>null</td><td>ETHBTC</td><td>Map()</td><td>Map(x-opt-sequence-number-epoch -> -1, x-opt-partition-key -> ETHBTC)</td></tr><tr><td>eydldmVudF90eXBlJzogJ3RyYWRlJywgJ2V2ZW50X3RpbWUnOiAnMTcwOTY2NzM3OTc2NicsICdzeW1ib2wnOiAnQk5CQlRDJywgJ3RyYWRlX2lkJzogJzIzNTA2OTM0MycsICdwcmljZSc6ICcwLjAwNjM0OTAwJywgJ3F1YW4= (truncated)</td><td>4</td><td>91728</td><td>238</td><td>2024-03-05T19:36:29.336Z</td><td>null</td><td>BNBBTC</td><td>Map()</td><td>Map(x-opt-sequence-number-epoch -> -1, x-opt-partition-key -> BNBBTC)</td></tr><tr><td>eydldmVudF90eXBlJzogJ3RyYWRlJywgJ2V2ZW50X3RpbWUnOiAnMTcwOTY2NzM3NDk1NycsICdzeW1ib2wnOiAnRVRIQlRDJywgJ3RyYWRlX2lkJzogJzQzNDk4OTI5OScsICdwcmljZSc6ICcwLjA1NjQwMDAwJywgJ3F1YW4= (truncated)</td><td>5</td><td>110464</td><td>287</td><td>2024-03-05T19:36:31.514Z</td><td>null</td><td>ETHBTC</td><td>Map()</td><td>Map(x-opt-sequence-number-epoch -> -1, x-opt-partition-key -> ETHBTC)</td></tr><tr><td>eydldmVudF90eXBlJzogJ3RyYWRlJywgJ2V2ZW50X3RpbWUnOiAnMTcwOTY2NzM3OTc2NycsICdzeW1ib2wnOiAnQk5CQlRDJywgJ3RyYWRlX2lkJzogJzIzNTA2OTM0NCcsICdwcmljZSc6ICcwLjAwNjM0OTAwJywgJ3F1YW4= (truncated)</td><td>4</td><td>92128</td><td>239</td><td>2024-03-05T19:36:33.696Z</td><td>null</td><td>BNBBTC</td><td>Map()</td><td>Map(x-opt-sequence-number-epoch -> -1, x-opt-partition-key -> BNBBTC)</td></tr><tr><td>eydldmVudF90eXBlJzogJ3RyYWRlJywgJ2V2ZW50X3RpbWUnOiAnMTcwOTY2NzM3NDk1OCcsICdzeW1ib2wnOiAnRVRIQlRDJywgJ3RyYWRlX2lkJzogJzQzNDk4OTMwMCcsICdwcmljZSc6ICcwLjA1NjQwMDAwJywgJ3F1YW4= (truncated)</td><td>5</td><td>110864</td><td>288</td><td>2024-03-05T19:36:35.859Z</td><td>null</td><td>ETHBTC</td><td>Map()</td><td>Map(x-opt-sequence-number-epoch -> -1, x-opt-partition-key -> ETHBTC)</td></tr><tr><td>eydldmVudF90eXBlJzogJ3RyYWRlJywgJ2V2ZW50X3RpbWUnOiAnMTcwOTY2NzM4MTAzOScsICdzeW1ib2wnOiAnQk5CQlRDJywgJ3RyYWRlX2lkJzogJzIzNTA2OTM0NScsICdwcmljZSc6ICcwLjAwNjM0ODAwJywgJ3F1YW4= (truncated)</td><td>4</td><td>92528</td><td>240</td><td>2024-03-05T19:36:38.039Z</td><td>null</td><td>BNBBTC</td><td>Map()</td><td>Map(x-opt-sequence-number-epoch -> -1, x-opt-partition-key -> BNBBTC)</td></tr><tr><td>eydldmVudF90eXBlJzogJ3RyYWRlJywgJ2V2ZW50X3RpbWUnOiAnMTcwOTY2NzM3NDk3OScsICdzeW1ib2wnOiAnRVRIQlRDJywgJ3RyYWRlX2lkJzogJzQzNDk4OTMwMScsICdwcmljZSc6ICcwLjA1NjQwMDAwJywgJ3F1YW4= (truncated)</td><td>5</td><td>111264</td><td>289</td><td>2024-03-05T19:36:40.218Z</td><td>null</td><td>ETHBTC</td><td>Map()</td><td>Map(x-opt-sequence-number-epoch -> -1, x-opt-partition-key -> ETHBTC)</td></tr><tr><td>eydldmVudF90eXBlJzogJ3RyYWRlJywgJ2V2ZW50X3RpbWUnOiAnMTcwOTY2NzM4MTI5MCcsICdzeW1ib2wnOiAnQk5CQlRDJywgJ3RyYWRlX2lkJzogJzIzNTA2OTM0NicsICdwcmljZSc6ICcwLjAwNjM0OTAwJywgJ3F1YW4= (truncated)</td><td>4</td><td>92928</td><td>241</td><td>2024-03-05T19:36:42.399Z</td><td>null</td><td>BNBBTC</td><td>Map()</td><td>Map(x-opt-sequence-number-epoch -> -1, x-opt-partition-key -> BNBBTC)</td></tr><tr><td>eydldmVudF90eXBlJzogJ3RyYWRlJywgJ2V2ZW50X3RpbWUnOiAnMTcwOTY2NzM3NTA0NicsICdzeW1ib2wnOiAnRVRIQlRDJywgJ3RyYWRlX2lkJzogJzQzNDk4OTMwMicsICdwcmljZSc6ICcwLjA1NjM4MDAwJywgJ3F1YW4= (truncated)</td><td>5</td><td>111664</td><td>290</td><td>2024-03-05T19:36:44.578Z</td><td>null</td><td>ETHBTC</td><td>Map()</td><td>Map(x-opt-sequence-number-epoch -> -1, x-opt-partition-key -> ETHBTC)</td></tr><tr><td>eydldmVudF90eXBlJzogJ3RyYWRlJywgJ2V2ZW50X3RpbWUnOiAnMTcwOTY2NzM4MTkwNScsICdzeW1ib2wnOiAnQk5CQlRDJywgJ3RyYWRlX2lkJzogJzIzNTA2OTM0NycsICdwcmljZSc6ICcwLjAwNjM1MDAwJywgJ3F1YW4= (truncated)</td><td>4</td><td>93328</td><td>242</td><td>2024-03-05T19:36:46.743Z</td><td>null</td><td>BNBBTC</td><td>Map()</td><td>Map(x-opt-sequence-number-epoch -> -1, x-opt-partition-key -> BNBBTC)</td></tr><tr><td>eydldmVudF90eXBlJzogJ3RyYWRlJywgJ2V2ZW50X3RpbWUnOiAnMTcwOTY2NzM3NTE1OCcsICdzeW1ib2wnOiAnRVRIQlRDJywgJ3RyYWRlX2lkJzogJzQzNDk4OTMwMycsICdwcmljZSc6ICcwLjA1NjM4MDAwJywgJ3F1YW4= (truncated)</td><td>5</td><td>112064</td><td>291</td><td>2024-03-05T19:36:48.937Z</td><td>null</td><td>ETHBTC</td><td>Map()</td><td>Map(x-opt-sequence-number-epoch -> -1, x-opt-partition-key -> ETHBTC)</td></tr><tr><td>eydldmVudF90eXBlJzogJ3RyYWRlJywgJ2V2ZW50X3RpbWUnOiAnMTcwOTY2NzM4MzI1NScsICdzeW1ib2wnOiAnQk5CQlRDJywgJ3RyYWRlX2lkJzogJzIzNTA2OTM0OCcsICdwcmljZSc6ICcwLjAwNjM1MDAwJywgJ3F1YW4= (truncated)</td><td>4</td><td>93728</td><td>243</td><td>2024-03-05T19:36:51.118Z</td><td>null</td><td>BNBBTC</td><td>Map()</td><td>Map(x-opt-sequence-number-epoch -> -1, x-opt-partition-key -> BNBBTC)</td></tr><tr><td>eydldmVudF90eXBlJzogJ3RyYWRlJywgJ2V2ZW50X3RpbWUnOiAnMTcwOTY2NzM3NTQyNScsICdzeW1ib2wnOiAnRVRIQlRDJywgJ3RyYWRlX2lkJzogJzQzNDk4OTMwNCcsICdwcmljZSc6ICcwLjA1NjM5MDAwJywgJ3F1YW4= (truncated)</td><td>5</td><td>112464</td><td>292</td><td>2024-03-05T19:36:53.297Z</td><td>null</td><td>ETHBTC</td><td>Map()</td><td>Map(x-opt-sequence-number-epoch -> -1, x-opt-partition-key -> ETHBTC)</td></tr><tr><td>eydldmVudF90eXBlJzogJ3RyYWRlJywgJ2V2ZW50X3RpbWUnOiAnMTcwOTY2NzM4MzI2MicsICdzeW1ib2wnOiAnQk5CQlRDJywgJ3RyYWRlX2lkJzogJzIzNTA2OTM0OScsICdwcmljZSc6ICcwLjAwNjM1MTAwJywgJ3F1YW4= (truncated)</td><td>4</td><td>94128</td><td>244</td><td>2024-03-05T19:36:55.461Z</td><td>null</td><td>BNBBTC</td><td>Map()</td><td>Map(x-opt-sequence-number-epoch -> -1, x-opt-partition-key -> BNBBTC)</td></tr><tr><td>eydldmVudF90eXBlJzogJ3RyYWRlJywgJ2V2ZW50X3RpbWUnOiAnMTcwOTY2NzM3NTYxNicsICdzeW1ib2wnOiAnRVRIQlRDJywgJ3RyYWRlX2lkJzogJzQzNDk4OTMwNScsICdwcmljZSc6ICcwLjA1NjM5MDAwJywgJ3F1YW4= (truncated)</td><td>5</td><td>112864</td><td>293</td><td>2024-03-05T19:36:57.64Z</td><td>null</td><td>ETHBTC</td><td>Map()</td><td>Map(x-opt-sequence-number-epoch -> -1, x-opt-partition-key -> ETHBTC)</td></tr><tr><td>eydldmVudF90eXBlJzogJ3RyYWRlJywgJ2V2ZW50X3RpbWUnOiAnMTcwOTY2NzM4MzI2OScsICdzeW1ib2wnOiAnQk5CQlRDJywgJ3RyYWRlX2lkJzogJzIzNTA2OTM1MCcsICdwcmljZSc6ICcwLjAwNjM0OTAwJywgJ3F1YW4= (truncated)</td><td>4</td><td>94528</td><td>245</td><td>2024-03-05T19:36:59.821Z</td><td>null</td><td>BNBBTC</td><td>Map()</td><td>Map(x-opt-sequence-number-epoch -> -1, x-opt-partition-key -> BNBBTC)</td></tr><tr><td>eydldmVudF90eXBlJzogJ3RyYWRlJywgJ2V2ZW50X3RpbWUnOiAnMTcwOTY2NzM3NTYyNycsICdzeW1ib2wnOiAnRVRIQlRDJywgJ3RyYWRlX2lkJzogJzQzNDk4OTMwNicsICdwcmljZSc6ICcwLjA1NjM5MDAwJywgJ3F1YW4= (truncated)</td><td>5</td><td>113264</td><td>294</td><td>2024-03-05T19:37:02Z</td><td>null</td><td>ETHBTC</td><td>Map()</td><td>Map(x-opt-sequence-number-epoch -> -1, x-opt-partition-key -> ETHBTC)</td></tr><tr><td>eydldmVudF90eXBlJzogJ3RyYWRlJywgJ2V2ZW50X3RpbWUnOiAnMTcwOTY2NzM4MzMyMycsICdzeW1ib2wnOiAnQk5CQlRDJywgJ3RyYWRlX2lkJzogJzIzNTA2OTM1MScsICdwcmljZSc6ICcwLjAwNjM1MzAwJywgJ3F1YW4= (truncated)</td><td>4</td><td>94928</td><td>246</td><td>2024-03-05T19:37:04.165Z</td><td>null</td><td>BNBBTC</td><td>Map()</td><td>Map(x-opt-sequence-number-epoch -> -1, x-opt-partition-key -> BNBBTC)</td></tr><tr><td>eydldmVudF90eXBlJzogJ3RyYWRlJywgJ2V2ZW50X3RpbWUnOiAnMTcwOTY2NzM3NTYyNycsICdzeW1ib2wnOiAnRVRIQlRDJywgJ3RyYWRlX2lkJzogJzQzNDk4OTMwNycsICdwcmljZSc6ICcwLjA1NjM5MDAwJywgJ3F1YW4= (truncated)</td><td>5</td><td>113664</td><td>295</td><td>2024-03-05T19:37:06.344Z</td><td>null</td><td>ETHBTC</td><td>Map()</td><td>Map(x-opt-sequence-number-epoch -> -1, x-opt-partition-key -> ETHBTC)</td></tr><tr><td>eydldmVudF90eXBlJzogJ3RyYWRlJywgJ2V2ZW50X3RpbWUnOiAnMTcwOTY2NzM4NDI1NicsICdzeW1ib2wnOiAnQk5CQlRDJywgJ3RyYWRlX2lkJzogJzIzNTA2OTM1MicsICdwcmljZSc6ICcwLjAwNjM0ODAwJywgJ3F1YW4= (truncated)</td><td>4</td><td>95328</td><td>247</td><td>2024-03-05T19:37:08.525Z</td><td>null</td><td>BNBBTC</td><td>Map()</td><td>Map(x-opt-sequence-number-epoch -> -1, x-opt-partition-key -> BNBBTC)</td></tr></tbody></table></div>"
      ]
     },
     "metadata": {
      "application/vnd.databricks.v1+output": {
       "addedWidgets": {},
       "aggData": [],
       "aggError": "",
       "aggOverflow": false,
       "aggSchema": [],
       "aggSeriesLimitReached": false,
       "aggType": "",
       "arguments": {},
       "columnCustomDisplayInfos": {},
       "data": [
        [
         "eydldmVudF90eXBlJzogJ3RyYWRlJywgJ2V2ZW50X3RpbWUnOiAnMTcwOTY2NzM3NDQxOScsICdzeW1ib2wnOiAnQk5CQlRDJywgJ3RyYWRlX2lkJzogJzIzNTA2OTM0MCcsICdwcmljZSc6ICcwLjAwNjM1MjAwJywgJ3F1YW4= (truncated)",
         "4",
         "90528",
         235,
         "2024-03-05T19:36:16.227Z",
         null,
         "BNBBTC",
         {},
         {
          "x-opt-partition-key": "BNBBTC",
          "x-opt-sequence-number-epoch": "-1"
         }
        ],
        [
         "eydldmVudF90eXBlJzogJ3RyYWRlJywgJ2V2ZW50X3RpbWUnOiAnMTcwOTY2NzM3NDYwMScsICdzeW1ib2wnOiAnRVRIQlRDJywgJ3RyYWRlX2lkJzogJzQzNDk4OTI5NicsICdwcmljZSc6ICcwLjA1NjQwMDAwJywgJ3F1YW4= (truncated)",
         "5",
         "109264",
         284,
         "2024-03-05T19:36:18.467Z",
         null,
         "ETHBTC",
         {},
         {
          "x-opt-partition-key": "ETHBTC",
          "x-opt-sequence-number-epoch": "-1"
         }
        ],
        [
         "eydldmVudF90eXBlJzogJ3RyYWRlJywgJ2V2ZW50X3RpbWUnOiAnMTcwOTY2NzM3NjI2MycsICdzeW1ib2wnOiAnQk5CQlRDJywgJ3RyYWRlX2lkJzogJzIzNTA2OTM0MScsICdwcmljZSc6ICcwLjAwNjM0OTAwJywgJ3F1YW4= (truncated)",
         "4",
         "90928",
         236,
         "2024-03-05T19:36:20.648Z",
         null,
         "BNBBTC",
         {},
         {
          "x-opt-partition-key": "BNBBTC",
          "x-opt-sequence-number-epoch": "-1"
         }
        ],
        [
         "eydldmVudF90eXBlJzogJ3RyYWRlJywgJ2V2ZW50X3RpbWUnOiAnMTcwOTY2NzM3NDY3OCcsICdzeW1ib2wnOiAnRVRIQlRDJywgJ3RyYWRlX2lkJzogJzQzNDk4OTI5NycsICdwcmljZSc6ICcwLjA1NjQwMDAwJywgJ3F1YW4= (truncated)",
         "5",
         "109664",
         285,
         "2024-03-05T19:36:22.811Z",
         null,
         "ETHBTC",
         {},
         {
          "x-opt-partition-key": "ETHBTC",
          "x-opt-sequence-number-epoch": "-1"
         }
        ],
        [
         "eydldmVudF90eXBlJzogJ3RyYWRlJywgJ2V2ZW50X3RpbWUnOiAnMTcwOTY2NzM3OTM2MycsICdzeW1ib2wnOiAnQk5CQlRDJywgJ3RyYWRlX2lkJzogJzIzNTA2OTM0MicsICdwcmljZSc6ICcwLjAwNjM1MDAwJywgJ3F1YW4= (truncated)",
         "4",
         "91328",
         237,
         "2024-03-05T19:36:24.992Z",
         null,
         "BNBBTC",
         {},
         {
          "x-opt-partition-key": "BNBBTC",
          "x-opt-sequence-number-epoch": "-1"
         }
        ],
        [
         "eydldmVudF90eXBlJzogJ3RyYWRlJywgJ2V2ZW50X3RpbWUnOiAnMTcwOTY2NzM3NDc2NCcsICdzeW1ib2wnOiAnRVRIQlRDJywgJ3RyYWRlX2lkJzogJzQzNDk4OTI5OCcsICdwcmljZSc6ICcwLjA1NjQwMDAwJywgJ3F1YW4= (truncated)",
         "5",
         "110064",
         286,
         "2024-03-05T19:36:27.17Z",
         null,
         "ETHBTC",
         {},
         {
          "x-opt-partition-key": "ETHBTC",
          "x-opt-sequence-number-epoch": "-1"
         }
        ],
        [
         "eydldmVudF90eXBlJzogJ3RyYWRlJywgJ2V2ZW50X3RpbWUnOiAnMTcwOTY2NzM3OTc2NicsICdzeW1ib2wnOiAnQk5CQlRDJywgJ3RyYWRlX2lkJzogJzIzNTA2OTM0MycsICdwcmljZSc6ICcwLjAwNjM0OTAwJywgJ3F1YW4= (truncated)",
         "4",
         "91728",
         238,
         "2024-03-05T19:36:29.336Z",
         null,
         "BNBBTC",
         {},
         {
          "x-opt-partition-key": "BNBBTC",
          "x-opt-sequence-number-epoch": "-1"
         }
        ],
        [
         "eydldmVudF90eXBlJzogJ3RyYWRlJywgJ2V2ZW50X3RpbWUnOiAnMTcwOTY2NzM3NDk1NycsICdzeW1ib2wnOiAnRVRIQlRDJywgJ3RyYWRlX2lkJzogJzQzNDk4OTI5OScsICdwcmljZSc6ICcwLjA1NjQwMDAwJywgJ3F1YW4= (truncated)",
         "5",
         "110464",
         287,
         "2024-03-05T19:36:31.514Z",
         null,
         "ETHBTC",
         {},
         {
          "x-opt-partition-key": "ETHBTC",
          "x-opt-sequence-number-epoch": "-1"
         }
        ],
        [
         "eydldmVudF90eXBlJzogJ3RyYWRlJywgJ2V2ZW50X3RpbWUnOiAnMTcwOTY2NzM3OTc2NycsICdzeW1ib2wnOiAnQk5CQlRDJywgJ3RyYWRlX2lkJzogJzIzNTA2OTM0NCcsICdwcmljZSc6ICcwLjAwNjM0OTAwJywgJ3F1YW4= (truncated)",
         "4",
         "92128",
         239,
         "2024-03-05T19:36:33.696Z",
         null,
         "BNBBTC",
         {},
         {
          "x-opt-partition-key": "BNBBTC",
          "x-opt-sequence-number-epoch": "-1"
         }
        ],
        [
         "eydldmVudF90eXBlJzogJ3RyYWRlJywgJ2V2ZW50X3RpbWUnOiAnMTcwOTY2NzM3NDk1OCcsICdzeW1ib2wnOiAnRVRIQlRDJywgJ3RyYWRlX2lkJzogJzQzNDk4OTMwMCcsICdwcmljZSc6ICcwLjA1NjQwMDAwJywgJ3F1YW4= (truncated)",
         "5",
         "110864",
         288,
         "2024-03-05T19:36:35.859Z",
         null,
         "ETHBTC",
         {},
         {
          "x-opt-partition-key": "ETHBTC",
          "x-opt-sequence-number-epoch": "-1"
         }
        ],
        [
         "eydldmVudF90eXBlJzogJ3RyYWRlJywgJ2V2ZW50X3RpbWUnOiAnMTcwOTY2NzM4MTAzOScsICdzeW1ib2wnOiAnQk5CQlRDJywgJ3RyYWRlX2lkJzogJzIzNTA2OTM0NScsICdwcmljZSc6ICcwLjAwNjM0ODAwJywgJ3F1YW4= (truncated)",
         "4",
         "92528",
         240,
         "2024-03-05T19:36:38.039Z",
         null,
         "BNBBTC",
         {},
         {
          "x-opt-partition-key": "BNBBTC",
          "x-opt-sequence-number-epoch": "-1"
         }
        ],
        [
         "eydldmVudF90eXBlJzogJ3RyYWRlJywgJ2V2ZW50X3RpbWUnOiAnMTcwOTY2NzM3NDk3OScsICdzeW1ib2wnOiAnRVRIQlRDJywgJ3RyYWRlX2lkJzogJzQzNDk4OTMwMScsICdwcmljZSc6ICcwLjA1NjQwMDAwJywgJ3F1YW4= (truncated)",
         "5",
         "111264",
         289,
         "2024-03-05T19:36:40.218Z",
         null,
         "ETHBTC",
         {},
         {
          "x-opt-partition-key": "ETHBTC",
          "x-opt-sequence-number-epoch": "-1"
         }
        ],
        [
         "eydldmVudF90eXBlJzogJ3RyYWRlJywgJ2V2ZW50X3RpbWUnOiAnMTcwOTY2NzM4MTI5MCcsICdzeW1ib2wnOiAnQk5CQlRDJywgJ3RyYWRlX2lkJzogJzIzNTA2OTM0NicsICdwcmljZSc6ICcwLjAwNjM0OTAwJywgJ3F1YW4= (truncated)",
         "4",
         "92928",
         241,
         "2024-03-05T19:36:42.399Z",
         null,
         "BNBBTC",
         {},
         {
          "x-opt-partition-key": "BNBBTC",
          "x-opt-sequence-number-epoch": "-1"
         }
        ],
        [
         "eydldmVudF90eXBlJzogJ3RyYWRlJywgJ2V2ZW50X3RpbWUnOiAnMTcwOTY2NzM3NTA0NicsICdzeW1ib2wnOiAnRVRIQlRDJywgJ3RyYWRlX2lkJzogJzQzNDk4OTMwMicsICdwcmljZSc6ICcwLjA1NjM4MDAwJywgJ3F1YW4= (truncated)",
         "5",
         "111664",
         290,
         "2024-03-05T19:36:44.578Z",
         null,
         "ETHBTC",
         {},
         {
          "x-opt-partition-key": "ETHBTC",
          "x-opt-sequence-number-epoch": "-1"
         }
        ],
        [
         "eydldmVudF90eXBlJzogJ3RyYWRlJywgJ2V2ZW50X3RpbWUnOiAnMTcwOTY2NzM4MTkwNScsICdzeW1ib2wnOiAnQk5CQlRDJywgJ3RyYWRlX2lkJzogJzIzNTA2OTM0NycsICdwcmljZSc6ICcwLjAwNjM1MDAwJywgJ3F1YW4= (truncated)",
         "4",
         "93328",
         242,
         "2024-03-05T19:36:46.743Z",
         null,
         "BNBBTC",
         {},
         {
          "x-opt-partition-key": "BNBBTC",
          "x-opt-sequence-number-epoch": "-1"
         }
        ],
        [
         "eydldmVudF90eXBlJzogJ3RyYWRlJywgJ2V2ZW50X3RpbWUnOiAnMTcwOTY2NzM3NTE1OCcsICdzeW1ib2wnOiAnRVRIQlRDJywgJ3RyYWRlX2lkJzogJzQzNDk4OTMwMycsICdwcmljZSc6ICcwLjA1NjM4MDAwJywgJ3F1YW4= (truncated)",
         "5",
         "112064",
         291,
         "2024-03-05T19:36:48.937Z",
         null,
         "ETHBTC",
         {},
         {
          "x-opt-partition-key": "ETHBTC",
          "x-opt-sequence-number-epoch": "-1"
         }
        ],
        [
         "eydldmVudF90eXBlJzogJ3RyYWRlJywgJ2V2ZW50X3RpbWUnOiAnMTcwOTY2NzM4MzI1NScsICdzeW1ib2wnOiAnQk5CQlRDJywgJ3RyYWRlX2lkJzogJzIzNTA2OTM0OCcsICdwcmljZSc6ICcwLjAwNjM1MDAwJywgJ3F1YW4= (truncated)",
         "4",
         "93728",
         243,
         "2024-03-05T19:36:51.118Z",
         null,
         "BNBBTC",
         {},
         {
          "x-opt-partition-key": "BNBBTC",
          "x-opt-sequence-number-epoch": "-1"
         }
        ],
        [
         "eydldmVudF90eXBlJzogJ3RyYWRlJywgJ2V2ZW50X3RpbWUnOiAnMTcwOTY2NzM3NTQyNScsICdzeW1ib2wnOiAnRVRIQlRDJywgJ3RyYWRlX2lkJzogJzQzNDk4OTMwNCcsICdwcmljZSc6ICcwLjA1NjM5MDAwJywgJ3F1YW4= (truncated)",
         "5",
         "112464",
         292,
         "2024-03-05T19:36:53.297Z",
         null,
         "ETHBTC",
         {},
         {
          "x-opt-partition-key": "ETHBTC",
          "x-opt-sequence-number-epoch": "-1"
         }
        ],
        [
         "eydldmVudF90eXBlJzogJ3RyYWRlJywgJ2V2ZW50X3RpbWUnOiAnMTcwOTY2NzM4MzI2MicsICdzeW1ib2wnOiAnQk5CQlRDJywgJ3RyYWRlX2lkJzogJzIzNTA2OTM0OScsICdwcmljZSc6ICcwLjAwNjM1MTAwJywgJ3F1YW4= (truncated)",
         "4",
         "94128",
         244,
         "2024-03-05T19:36:55.461Z",
         null,
         "BNBBTC",
         {},
         {
          "x-opt-partition-key": "BNBBTC",
          "x-opt-sequence-number-epoch": "-1"
         }
        ],
        [
         "eydldmVudF90eXBlJzogJ3RyYWRlJywgJ2V2ZW50X3RpbWUnOiAnMTcwOTY2NzM3NTYxNicsICdzeW1ib2wnOiAnRVRIQlRDJywgJ3RyYWRlX2lkJzogJzQzNDk4OTMwNScsICdwcmljZSc6ICcwLjA1NjM5MDAwJywgJ3F1YW4= (truncated)",
         "5",
         "112864",
         293,
         "2024-03-05T19:36:57.64Z",
         null,
         "ETHBTC",
         {},
         {
          "x-opt-partition-key": "ETHBTC",
          "x-opt-sequence-number-epoch": "-1"
         }
        ],
        [
         "eydldmVudF90eXBlJzogJ3RyYWRlJywgJ2V2ZW50X3RpbWUnOiAnMTcwOTY2NzM4MzI2OScsICdzeW1ib2wnOiAnQk5CQlRDJywgJ3RyYWRlX2lkJzogJzIzNTA2OTM1MCcsICdwcmljZSc6ICcwLjAwNjM0OTAwJywgJ3F1YW4= (truncated)",
         "4",
         "94528",
         245,
         "2024-03-05T19:36:59.821Z",
         null,
         "BNBBTC",
         {},
         {
          "x-opt-partition-key": "BNBBTC",
          "x-opt-sequence-number-epoch": "-1"
         }
        ],
        [
         "eydldmVudF90eXBlJzogJ3RyYWRlJywgJ2V2ZW50X3RpbWUnOiAnMTcwOTY2NzM3NTYyNycsICdzeW1ib2wnOiAnRVRIQlRDJywgJ3RyYWRlX2lkJzogJzQzNDk4OTMwNicsICdwcmljZSc6ICcwLjA1NjM5MDAwJywgJ3F1YW4= (truncated)",
         "5",
         "113264",
         294,
         "2024-03-05T19:37:02Z",
         null,
         "ETHBTC",
         {},
         {
          "x-opt-partition-key": "ETHBTC",
          "x-opt-sequence-number-epoch": "-1"
         }
        ],
        [
         "eydldmVudF90eXBlJzogJ3RyYWRlJywgJ2V2ZW50X3RpbWUnOiAnMTcwOTY2NzM4MzMyMycsICdzeW1ib2wnOiAnQk5CQlRDJywgJ3RyYWRlX2lkJzogJzIzNTA2OTM1MScsICdwcmljZSc6ICcwLjAwNjM1MzAwJywgJ3F1YW4= (truncated)",
         "4",
         "94928",
         246,
         "2024-03-05T19:37:04.165Z",
         null,
         "BNBBTC",
         {},
         {
          "x-opt-partition-key": "BNBBTC",
          "x-opt-sequence-number-epoch": "-1"
         }
        ],
        [
         "eydldmVudF90eXBlJzogJ3RyYWRlJywgJ2V2ZW50X3RpbWUnOiAnMTcwOTY2NzM3NTYyNycsICdzeW1ib2wnOiAnRVRIQlRDJywgJ3RyYWRlX2lkJzogJzQzNDk4OTMwNycsICdwcmljZSc6ICcwLjA1NjM5MDAwJywgJ3F1YW4= (truncated)",
         "5",
         "113664",
         295,
         "2024-03-05T19:37:06.344Z",
         null,
         "ETHBTC",
         {},
         {
          "x-opt-partition-key": "ETHBTC",
          "x-opt-sequence-number-epoch": "-1"
         }
        ],
        [
         "eydldmVudF90eXBlJzogJ3RyYWRlJywgJ2V2ZW50X3RpbWUnOiAnMTcwOTY2NzM4NDI1NicsICdzeW1ib2wnOiAnQk5CQlRDJywgJ3RyYWRlX2lkJzogJzIzNTA2OTM1MicsICdwcmljZSc6ICcwLjAwNjM0ODAwJywgJ3F1YW4= (truncated)",
         "4",
         "95328",
         247,
         "2024-03-05T19:37:08.525Z",
         null,
         "BNBBTC",
         {},
         {
          "x-opt-partition-key": "BNBBTC",
          "x-opt-sequence-number-epoch": "-1"
         }
        ]
       ],
       "datasetInfos": [],
       "dbfsResultPath": null,
       "isJsonSchema": true,
       "metadata": {
        "isDbfsCommandResult": false
       },
       "overflow": false,
       "plotOptions": {
        "customPlotOptions": {},
        "displayType": "table",
        "pivotAggregation": null,
        "pivotColumns": null,
        "xColumns": null,
        "yColumns": null
       },
       "removedWidgets": [],
       "schema": [
        {
         "metadata": "{}",
         "name": "body",
         "type": "\"binary\""
        },
        {
         "metadata": "{}",
         "name": "partition",
         "type": "\"string\""
        },
        {
         "metadata": "{}",
         "name": "offset",
         "type": "\"string\""
        },
        {
         "metadata": "{}",
         "name": "sequenceNumber",
         "type": "\"long\""
        },
        {
         "metadata": "{}",
         "name": "enqueuedTime",
         "type": "\"timestamp\""
        },
        {
         "metadata": "{}",
         "name": "publisher",
         "type": "\"string\""
        },
        {
         "metadata": "{}",
         "name": "partitionKey",
         "type": "\"string\""
        },
        {
         "metadata": "{}",
         "name": "properties",
         "type": "{\"type\":\"map\",\"keyType\":\"string\",\"valueType\":\"string\",\"valueContainsNull\":true}"
        },
        {
         "metadata": "{}",
         "name": "systemProperties",
         "type": "{\"type\":\"map\",\"keyType\":\"string\",\"valueType\":\"string\",\"valueContainsNull\":true}"
        }
       ],
       "type": "table"
      }
     },
     "output_type": "display_data"
    }
   ],
   "source": [
    "# Replace with your Event Hub namespace, name, and key\n",
    "connectionString = \"\"\n",
    "eventHubName = \"\"\n",
    "\n",
    "ehConf = {\n",
    "  'eventhubs.connectionString' : sc._jvm.org.apache.spark.eventhubs.EventHubsUtils.encrypt(connectionString),\n",
    "  'eventhubs.eventHubName': eventHubName\n",
    "}\n",
    "\n",
    "# Reading stream: Load data from Azure Event Hub into DataFrame 'df' using the previously configured settings\n",
    "df = spark.readStream \\\n",
    "    .format(\"eventhubs\") \\\n",
    "    .options(**ehConf) \\\n",
    "    .load() \\\n",
    "\n",
    "# Displaying stream: Show the incoming streaming data for visualization and debugging purposes\n",
    "df.display()\n"
   ]
  },
  {
   "cell_type": "code",
   "execution_count": null,
   "metadata": {
    "application/vnd.databricks.v1+cell": {
     "cellMetadata": {
      "byteLimit": 2048000,
      "rowLimit": 10000
     },
     "inputWidgets": {},
     "nuid": "ba16c051-8463-45bd-b7bc-6de43d532968",
     "showTitle": false,
     "title": ""
    }
   },
   "outputs": [
    {
     "data": {
      "text/html": [
       "<style scoped>\n",
       "  .table-result-container {\n",
       "    max-height: 300px;\n",
       "    overflow: auto;\n",
       "  }\n",
       "  table, th, td {\n",
       "    border: 1px solid black;\n",
       "    border-collapse: collapse;\n",
       "  }\n",
       "  th, td {\n",
       "    padding: 5px;\n",
       "  }\n",
       "  th {\n",
       "    text-align: left;\n",
       "  }\n",
       "</style><div class='table-result-container'><table class='table-result'><thead style='background-color: white'><tr><th>event_type</th><th>event_time</th><th>symbol</th><th>trade_id</th><th>price</th><th>quantity</th><th>buyer_order_id</th><th>seller_order_id</th><th>trade_time</th><th>is_market_maker</th><th>ignore_field</th></tr></thead><tbody><tr><td>trade</td><td>2024-03-05T19:36:14Z</td><td>BNBBTC</td><td>235069340</td><td>0.00635200</td><td>0.51000000</td><td>1840321503</td><td>1840321522</td><td>2024-03-05T19:36:14Z</td><td>True</td><td>True</td></tr><tr><td>trade</td><td>2024-03-05T19:36:14Z</td><td>ETHBTC</td><td>434989296</td><td>0.05640000</td><td>0.22610000</td><td>3880286409</td><td>3880286440</td><td>2024-03-05T19:36:14Z</td><td>True</td><td>True</td></tr><tr><td>trade</td><td>2024-03-05T19:36:16Z</td><td>BNBBTC</td><td>235069341</td><td>0.00634900</td><td>0.10100000</td><td>1840321495</td><td>1840321606</td><td>2024-03-05T19:36:16Z</td><td>True</td><td>True</td></tr><tr><td>trade</td><td>2024-03-05T19:36:14Z</td><td>ETHBTC</td><td>434989297</td><td>0.05640000</td><td>0.00280000</td><td>3880286456</td><td>3880286452</td><td>2024-03-05T19:36:14Z</td><td>False</td><td>True</td></tr><tr><td>trade</td><td>2024-03-05T19:36:19Z</td><td>BNBBTC</td><td>235069342</td><td>0.00635000</td><td>1.54300000</td><td>1840321726</td><td>1840321725</td><td>2024-03-05T19:36:19Z</td><td>False</td><td>True</td></tr><tr><td>trade</td><td>2024-03-05T19:36:14Z</td><td>ETHBTC</td><td>434989298</td><td>0.05640000</td><td>0.22610000</td><td>3880286478</td><td>3880286476</td><td>2024-03-05T19:36:14Z</td><td>False</td><td>True</td></tr><tr><td>trade</td><td>2024-03-05T19:36:19Z</td><td>BNBBTC</td><td>235069343</td><td>0.00634900</td><td>1.58500000</td><td>1840321751</td><td>1840321734</td><td>2024-03-05T19:36:19Z</td><td>False</td><td>True</td></tr><tr><td>trade</td><td>2024-03-05T19:36:14Z</td><td>ETHBTC</td><td>434989299</td><td>0.05640000</td><td>0.26500000</td><td>3880286484</td><td>3880286528</td><td>2024-03-05T19:36:14Z</td><td>True</td><td>True</td></tr><tr><td>trade</td><td>2024-03-05T19:36:19Z</td><td>BNBBTC</td><td>235069344</td><td>0.00634900</td><td>1.58200000</td><td>1840321752</td><td>1840321734</td><td>2024-03-05T19:36:19Z</td><td>False</td><td>True</td></tr><tr><td>trade</td><td>2024-03-05T19:36:14Z</td><td>ETHBTC</td><td>434989300</td><td>0.05640000</td><td>1.95300000</td><td>3880286484</td><td>3880286529</td><td>2024-03-05T19:36:14Z</td><td>True</td><td>True</td></tr><tr><td>trade</td><td>2024-03-05T19:36:21Z</td><td>BNBBTC</td><td>235069345</td><td>0.00634800</td><td>0.06500000</td><td>1840321791</td><td>1840321808</td><td>2024-03-05T19:36:20Z</td><td>True</td><td>True</td></tr><tr><td>trade</td><td>2024-03-05T19:36:14Z</td><td>ETHBTC</td><td>434989301</td><td>0.05640000</td><td>0.22610000</td><td>3880286508</td><td>3880286532</td><td>2024-03-05T19:36:14Z</td><td>True</td><td>True</td></tr><tr><td>trade</td><td>2024-03-05T19:36:21Z</td><td>BNBBTC</td><td>235069346</td><td>0.00634900</td><td>0.07900000</td><td>1840321814</td><td>1840321819</td><td>2024-03-05T19:36:21Z</td><td>True</td><td>True</td></tr><tr><td>trade</td><td>2024-03-05T19:36:15Z</td><td>ETHBTC</td><td>434989302</td><td>0.05638000</td><td>0.17280000</td><td>3880286220</td><td>3880286555</td><td>2024-03-05T19:36:15Z</td><td>True</td><td>True</td></tr><tr><td>trade</td><td>2024-03-05T19:36:21Z</td><td>BNBBTC</td><td>235069347</td><td>0.00635000</td><td>0.09900000</td><td>1840321824</td><td>1840321838</td><td>2024-03-05T19:36:21Z</td><td>True</td><td>True</td></tr><tr><td>trade</td><td>2024-03-05T19:36:15Z</td><td>ETHBTC</td><td>434989303</td><td>0.05638000</td><td>0.03540000</td><td>3880286220</td><td>3880286577</td><td>2024-03-05T19:36:15Z</td><td>True</td><td>True</td></tr><tr><td>trade</td><td>2024-03-05T19:36:23Z</td><td>BNBBTC</td><td>235069348</td><td>0.00635000</td><td>2.00000000</td><td>1840321880</td><td>1840321865</td><td>2024-03-05T19:36:23Z</td><td>False</td><td>True</td></tr><tr><td>trade</td><td>2024-03-05T19:36:15Z</td><td>ETHBTC</td><td>434989304</td><td>0.05639000</td><td>0.02620000</td><td>3880286626</td><td>3880286536</td><td>2024-03-05T19:36:15Z</td><td>False</td><td>True</td></tr><tr><td>trade</td><td>2024-03-05T19:36:23Z</td><td>BNBBTC</td><td>235069349</td><td>0.00635100</td><td>0.07800000</td><td>1840321882</td><td>1840321616</td><td>2024-03-05T19:36:23Z</td><td>False</td><td>True</td></tr><tr><td>trade</td><td>2024-03-05T19:36:15Z</td><td>ETHBTC</td><td>434989305</td><td>0.05639000</td><td>0.00400000</td><td>3880286660</td><td>3880286536</td><td>2024-03-05T19:36:15Z</td><td>False</td><td>True</td></tr><tr><td>trade</td><td>2024-03-05T19:36:23Z</td><td>BNBBTC</td><td>235069350</td><td>0.00634900</td><td>1.47100000</td><td>1840321879</td><td>1840321883</td><td>2024-03-05T19:36:23Z</td><td>True</td><td>True</td></tr><tr><td>trade</td><td>2024-03-05T19:36:15Z</td><td>ETHBTC</td><td>434989306</td><td>0.05639000</td><td>1.16980000</td><td>3880286661</td><td>3880286536</td><td>2024-03-05T19:36:15Z</td><td>False</td><td>True</td></tr><tr><td>trade</td><td>2024-03-05T19:36:23Z</td><td>BNBBTC</td><td>235069351</td><td>0.00635300</td><td>0.25000000</td><td>1840321889</td><td>1840300149</td><td>2024-03-05T19:36:23Z</td><td>False</td><td>True</td></tr><tr><td>trade</td><td>2024-03-05T19:36:15Z</td><td>ETHBTC</td><td>434989307</td><td>0.05639000</td><td>2.47120000</td><td>3880286661</td><td>3880286552</td><td>2024-03-05T19:36:15Z</td><td>False</td><td>True</td></tr><tr><td>trade</td><td>2024-03-05T19:36:24Z</td><td>BNBBTC</td><td>235069352</td><td>0.00634800</td><td>0.04900000</td><td>1840321909</td><td>1840321938</td><td>2024-03-05T19:36:24Z</td><td>True</td><td>True</td></tr></tbody></table></div>"
      ]
     },
     "metadata": {
      "application/vnd.databricks.v1+output": {
       "addedWidgets": {},
       "aggData": [],
       "aggError": "",
       "aggOverflow": false,
       "aggSchema": [],
       "aggSeriesLimitReached": false,
       "aggType": "",
       "arguments": {},
       "columnCustomDisplayInfos": {},
       "data": [
        [
         "trade",
         "2024-03-05T19:36:14Z",
         "BNBBTC",
         "235069340",
         "0.00635200",
         "0.51000000",
         "1840321503",
         "1840321522",
         "2024-03-05T19:36:14Z",
         "True",
         "True"
        ],
        [
         "trade",
         "2024-03-05T19:36:14Z",
         "ETHBTC",
         "434989296",
         "0.05640000",
         "0.22610000",
         "3880286409",
         "3880286440",
         "2024-03-05T19:36:14Z",
         "True",
         "True"
        ],
        [
         "trade",
         "2024-03-05T19:36:16Z",
         "BNBBTC",
         "235069341",
         "0.00634900",
         "0.10100000",
         "1840321495",
         "1840321606",
         "2024-03-05T19:36:16Z",
         "True",
         "True"
        ],
        [
         "trade",
         "2024-03-05T19:36:14Z",
         "ETHBTC",
         "434989297",
         "0.05640000",
         "0.00280000",
         "3880286456",
         "3880286452",
         "2024-03-05T19:36:14Z",
         "False",
         "True"
        ],
        [
         "trade",
         "2024-03-05T19:36:19Z",
         "BNBBTC",
         "235069342",
         "0.00635000",
         "1.54300000",
         "1840321726",
         "1840321725",
         "2024-03-05T19:36:19Z",
         "False",
         "True"
        ],
        [
         "trade",
         "2024-03-05T19:36:14Z",
         "ETHBTC",
         "434989298",
         "0.05640000",
         "0.22610000",
         "3880286478",
         "3880286476",
         "2024-03-05T19:36:14Z",
         "False",
         "True"
        ],
        [
         "trade",
         "2024-03-05T19:36:19Z",
         "BNBBTC",
         "235069343",
         "0.00634900",
         "1.58500000",
         "1840321751",
         "1840321734",
         "2024-03-05T19:36:19Z",
         "False",
         "True"
        ],
        [
         "trade",
         "2024-03-05T19:36:14Z",
         "ETHBTC",
         "434989299",
         "0.05640000",
         "0.26500000",
         "3880286484",
         "3880286528",
         "2024-03-05T19:36:14Z",
         "True",
         "True"
        ],
        [
         "trade",
         "2024-03-05T19:36:19Z",
         "BNBBTC",
         "235069344",
         "0.00634900",
         "1.58200000",
         "1840321752",
         "1840321734",
         "2024-03-05T19:36:19Z",
         "False",
         "True"
        ],
        [
         "trade",
         "2024-03-05T19:36:14Z",
         "ETHBTC",
         "434989300",
         "0.05640000",
         "1.95300000",
         "3880286484",
         "3880286529",
         "2024-03-05T19:36:14Z",
         "True",
         "True"
        ],
        [
         "trade",
         "2024-03-05T19:36:21Z",
         "BNBBTC",
         "235069345",
         "0.00634800",
         "0.06500000",
         "1840321791",
         "1840321808",
         "2024-03-05T19:36:20Z",
         "True",
         "True"
        ],
        [
         "trade",
         "2024-03-05T19:36:14Z",
         "ETHBTC",
         "434989301",
         "0.05640000",
         "0.22610000",
         "3880286508",
         "3880286532",
         "2024-03-05T19:36:14Z",
         "True",
         "True"
        ],
        [
         "trade",
         "2024-03-05T19:36:21Z",
         "BNBBTC",
         "235069346",
         "0.00634900",
         "0.07900000",
         "1840321814",
         "1840321819",
         "2024-03-05T19:36:21Z",
         "True",
         "True"
        ],
        [
         "trade",
         "2024-03-05T19:36:15Z",
         "ETHBTC",
         "434989302",
         "0.05638000",
         "0.17280000",
         "3880286220",
         "3880286555",
         "2024-03-05T19:36:15Z",
         "True",
         "True"
        ],
        [
         "trade",
         "2024-03-05T19:36:21Z",
         "BNBBTC",
         "235069347",
         "0.00635000",
         "0.09900000",
         "1840321824",
         "1840321838",
         "2024-03-05T19:36:21Z",
         "True",
         "True"
        ],
        [
         "trade",
         "2024-03-05T19:36:15Z",
         "ETHBTC",
         "434989303",
         "0.05638000",
         "0.03540000",
         "3880286220",
         "3880286577",
         "2024-03-05T19:36:15Z",
         "True",
         "True"
        ],
        [
         "trade",
         "2024-03-05T19:36:23Z",
         "BNBBTC",
         "235069348",
         "0.00635000",
         "2.00000000",
         "1840321880",
         "1840321865",
         "2024-03-05T19:36:23Z",
         "False",
         "True"
        ],
        [
         "trade",
         "2024-03-05T19:36:15Z",
         "ETHBTC",
         "434989304",
         "0.05639000",
         "0.02620000",
         "3880286626",
         "3880286536",
         "2024-03-05T19:36:15Z",
         "False",
         "True"
        ],
        [
         "trade",
         "2024-03-05T19:36:23Z",
         "BNBBTC",
         "235069349",
         "0.00635100",
         "0.07800000",
         "1840321882",
         "1840321616",
         "2024-03-05T19:36:23Z",
         "False",
         "True"
        ],
        [
         "trade",
         "2024-03-05T19:36:15Z",
         "ETHBTC",
         "434989305",
         "0.05639000",
         "0.00400000",
         "3880286660",
         "3880286536",
         "2024-03-05T19:36:15Z",
         "False",
         "True"
        ],
        [
         "trade",
         "2024-03-05T19:36:23Z",
         "BNBBTC",
         "235069350",
         "0.00634900",
         "1.47100000",
         "1840321879",
         "1840321883",
         "2024-03-05T19:36:23Z",
         "True",
         "True"
        ],
        [
         "trade",
         "2024-03-05T19:36:15Z",
         "ETHBTC",
         "434989306",
         "0.05639000",
         "1.16980000",
         "3880286661",
         "3880286536",
         "2024-03-05T19:36:15Z",
         "False",
         "True"
        ],
        [
         "trade",
         "2024-03-05T19:36:23Z",
         "BNBBTC",
         "235069351",
         "0.00635300",
         "0.25000000",
         "1840321889",
         "1840300149",
         "2024-03-05T19:36:23Z",
         "False",
         "True"
        ],
        [
         "trade",
         "2024-03-05T19:36:15Z",
         "ETHBTC",
         "434989307",
         "0.05639000",
         "2.47120000",
         "3880286661",
         "3880286552",
         "2024-03-05T19:36:15Z",
         "False",
         "True"
        ],
        [
         "trade",
         "2024-03-05T19:36:24Z",
         "BNBBTC",
         "235069352",
         "0.00634800",
         "0.04900000",
         "1840321909",
         "1840321938",
         "2024-03-05T19:36:24Z",
         "True",
         "True"
        ]
       ],
       "datasetInfos": [],
       "dbfsResultPath": null,
       "isJsonSchema": true,
       "metadata": {
        "isDbfsCommandResult": false
       },
       "overflow": false,
       "plotOptions": {
        "customPlotOptions": {},
        "displayType": "table",
        "pivotAggregation": null,
        "pivotColumns": null,
        "xColumns": null,
        "yColumns": null
       },
       "removedWidgets": [],
       "schema": [
        {
         "metadata": "{}",
         "name": "event_type",
         "type": "\"string\""
        },
        {
         "metadata": "{}",
         "name": "event_time",
         "type": "\"timestamp\""
        },
        {
         "metadata": "{}",
         "name": "symbol",
         "type": "\"string\""
        },
        {
         "metadata": "{}",
         "name": "trade_id",
         "type": "\"string\""
        },
        {
         "metadata": "{}",
         "name": "price",
         "type": "\"string\""
        },
        {
         "metadata": "{}",
         "name": "quantity",
         "type": "\"string\""
        },
        {
         "metadata": "{}",
         "name": "buyer_order_id",
         "type": "\"string\""
        },
        {
         "metadata": "{}",
         "name": "seller_order_id",
         "type": "\"string\""
        },
        {
         "metadata": "{}",
         "name": "trade_time",
         "type": "\"timestamp\""
        },
        {
         "metadata": "{}",
         "name": "is_market_maker",
         "type": "\"string\""
        },
        {
         "metadata": "{}",
         "name": "ignore_field",
         "type": "\"string\""
        }
       ],
       "type": "table"
      }
     },
     "output_type": "display_data"
    }
   ],
   "source": [
    "\n",
    "# Define the schema\n",
    "# Define the schema\n",
    "schema = StructType([\n",
    "    StructField(\"event_type\", StringType(), True),\n",
    "    StructField(\"event_time\", StringType(), True),\n",
    "    StructField(\"symbol\", StringType(), True),\n",
    "    StructField(\"trade_id\", StringType(), True),\n",
    "    StructField(\"price\", StringType(), True),\n",
    "    StructField(\"quantity\", StringType(), True),\n",
    "    StructField(\"buyer_order_id\", StringType(), True),\n",
    "    StructField(\"seller_order_id\", StringType(), True),\n",
    "    StructField(\"trade_time\", StringType(), True),\n",
    "    StructField(\"is_market_maker\", StringType(), True),\n",
    "    StructField(\"ignore_field\", StringType(), True)\n",
    "])\n",
    "\n",
    "# Extract body and partition key from the event data\n",
    "data_df = df.withColumn(\"body\", col('body').cast('string')) \\\n",
    "    .withColumn(\"body\", from_json(col(\"body\"), schema)) \\\n",
    "    .select(\n",
    "      col(\"body.event_type\"),\n",
    "      from_unixtime(col('body.event_time') / 1000).cast('timestamp').alias(\"event_time\"),\n",
    "      col(\"body.symbol\"),\n",
    "      col(\"body.trade_id\"),\n",
    "      col(\"body.price\"),\n",
    "      col(\"body.quantity\"),\n",
    "      col(\"body.buyer_order_id\"),\n",
    "      col(\"body.seller_order_id\"),\n",
    "      from_unixtime(col('body.trade_time') / 1000).cast('timestamp').alias(\"trade_time\"),\n",
    "      col(\"body.is_market_maker\"),\n",
    "      col(\"body.ignore_field\")\n",
    "            )\n",
    "\n",
    "data_df.display()\n"
   ]
  },
  {
   "cell_type": "code",
   "execution_count": null,
   "metadata": {
    "application/vnd.databricks.v1+cell": {
     "cellMetadata": {
      "byteLimit": 2048000,
      "implicitDf": true,
      "rowLimit": 10000
     },
     "inputWidgets": {},
     "nuid": "199919fb-c569-47b1-846d-10d04d83aa94",
     "showTitle": false,
     "title": ""
    }
   },
   "outputs": [
    {
     "data": {
      "text/html": [
       "<style scoped>\n",
       "  .table-result-container {\n",
       "    max-height: 300px;\n",
       "    overflow: auto;\n",
       "  }\n",
       "  table, th, td {\n",
       "    border: 1px solid black;\n",
       "    border-collapse: collapse;\n",
       "  }\n",
       "  th, td {\n",
       "    padding: 5px;\n",
       "  }\n",
       "  th {\n",
       "    text-align: left;\n",
       "  }\n",
       "</style><div class='table-result-container'><table class='table-result'><thead style='background-color: white'><tr><th>event_type</th><th>event_time</th><th>symbol</th><th>trade_id</th><th>price</th><th>quantity</th><th>buyer_order_id</th><th>seller_order_id</th><th>trade_time</th><th>is_market_maker</th><th>ignore_field</th></tr></thead><tbody><tr><td>trade</td><td>2024-03-05T19:36:19Z</td><td>BNBBTC</td><td>235069342</td><td>0.00635000</td><td>1.54300000</td><td>1840321726</td><td>1840321725</td><td>2024-03-05T19:36:19Z</td><td>False</td><td>True</td></tr><tr><td>trade</td><td>2024-03-05T19:36:14Z</td><td>ETHBTC</td><td>434989298</td><td>0.05640000</td><td>0.22610000</td><td>3880286478</td><td>3880286476</td><td>2024-03-05T19:36:14Z</td><td>False</td><td>True</td></tr><tr><td>trade</td><td>2024-03-05T19:36:14Z</td><td>ETHBTC</td><td>434989297</td><td>0.05640000</td><td>0.00280000</td><td>3880286456</td><td>3880286452</td><td>2024-03-05T19:36:14Z</td><td>False</td><td>True</td></tr><tr><td>trade</td><td>2024-03-05T19:36:19Z</td><td>BNBBTC</td><td>235069343</td><td>0.00634900</td><td>1.58500000</td><td>1840321751</td><td>1840321734</td><td>2024-03-05T19:36:19Z</td><td>False</td><td>True</td></tr><tr><td>trade</td><td>2024-03-05T19:36:16Z</td><td>BNBBTC</td><td>235069341</td><td>0.00634900</td><td>0.10100000</td><td>1840321495</td><td>1840321606</td><td>2024-03-05T19:36:16Z</td><td>True</td><td>True</td></tr><tr><td>trade</td><td>2024-03-05T19:36:14Z</td><td>ETHBTC</td><td>434989296</td><td>0.05640000</td><td>0.22610000</td><td>3880286409</td><td>3880286440</td><td>2024-03-05T19:36:14Z</td><td>True</td><td>True</td></tr><tr><td>trade</td><td>2024-03-05T19:36:14Z</td><td>ETHBTC</td><td>434989299</td><td>0.05640000</td><td>0.26500000</td><td>3880286484</td><td>3880286528</td><td>2024-03-05T19:36:14Z</td><td>True</td><td>True</td></tr><tr><td>trade</td><td>2024-03-05T19:36:14Z</td><td>BNBBTC</td><td>235069340</td><td>0.00635200</td><td>0.51000000</td><td>1840321503</td><td>1840321522</td><td>2024-03-05T19:36:14Z</td><td>True</td><td>True</td></tr></tbody></table></div>"
      ]
     },
     "metadata": {
      "application/vnd.databricks.v1+output": {
       "addedWidgets": {},
       "aggData": [],
       "aggError": "",
       "aggOverflow": false,
       "aggSchema": [],
       "aggSeriesLimitReached": false,
       "aggType": "",
       "arguments": {},
       "columnCustomDisplayInfos": {},
       "data": [
        [
         "trade",
         "2024-03-05T19:36:19Z",
         "BNBBTC",
         "235069342",
         "0.00635000",
         "1.54300000",
         "1840321726",
         "1840321725",
         "2024-03-05T19:36:19Z",
         "False",
         "True"
        ],
        [
         "trade",
         "2024-03-05T19:36:14Z",
         "ETHBTC",
         "434989298",
         "0.05640000",
         "0.22610000",
         "3880286478",
         "3880286476",
         "2024-03-05T19:36:14Z",
         "False",
         "True"
        ],
        [
         "trade",
         "2024-03-05T19:36:14Z",
         "ETHBTC",
         "434989297",
         "0.05640000",
         "0.00280000",
         "3880286456",
         "3880286452",
         "2024-03-05T19:36:14Z",
         "False",
         "True"
        ],
        [
         "trade",
         "2024-03-05T19:36:19Z",
         "BNBBTC",
         "235069343",
         "0.00634900",
         "1.58500000",
         "1840321751",
         "1840321734",
         "2024-03-05T19:36:19Z",
         "False",
         "True"
        ],
        [
         "trade",
         "2024-03-05T19:36:16Z",
         "BNBBTC",
         "235069341",
         "0.00634900",
         "0.10100000",
         "1840321495",
         "1840321606",
         "2024-03-05T19:36:16Z",
         "True",
         "True"
        ],
        [
         "trade",
         "2024-03-05T19:36:14Z",
         "ETHBTC",
         "434989296",
         "0.05640000",
         "0.22610000",
         "3880286409",
         "3880286440",
         "2024-03-05T19:36:14Z",
         "True",
         "True"
        ],
        [
         "trade",
         "2024-03-05T19:36:14Z",
         "ETHBTC",
         "434989299",
         "0.05640000",
         "0.26500000",
         "3880286484",
         "3880286528",
         "2024-03-05T19:36:14Z",
         "True",
         "True"
        ],
        [
         "trade",
         "2024-03-05T19:36:14Z",
         "BNBBTC",
         "235069340",
         "0.00635200",
         "0.51000000",
         "1840321503",
         "1840321522",
         "2024-03-05T19:36:14Z",
         "True",
         "True"
        ]
       ],
       "datasetInfos": [],
       "dbfsResultPath": null,
       "isJsonSchema": true,
       "metadata": {
        "dataframeName": "_sqldf",
        "executionCount": 34
       },
       "overflow": false,
       "plotOptions": {
        "customPlotOptions": {},
        "displayType": "table",
        "pivotAggregation": null,
        "pivotColumns": null,
        "xColumns": null,
        "yColumns": null
       },
       "removedWidgets": [],
       "schema": [
        {
         "metadata": "{}",
         "name": "event_type",
         "type": "\"string\""
        },
        {
         "metadata": "{}",
         "name": "event_time",
         "type": "\"timestamp\""
        },
        {
         "metadata": "{}",
         "name": "symbol",
         "type": "\"string\""
        },
        {
         "metadata": "{}",
         "name": "trade_id",
         "type": "\"string\""
        },
        {
         "metadata": "{}",
         "name": "price",
         "type": "\"string\""
        },
        {
         "metadata": "{}",
         "name": "quantity",
         "type": "\"string\""
        },
        {
         "metadata": "{}",
         "name": "buyer_order_id",
         "type": "\"string\""
        },
        {
         "metadata": "{}",
         "name": "seller_order_id",
         "type": "\"string\""
        },
        {
         "metadata": "{}",
         "name": "trade_time",
         "type": "\"timestamp\""
        },
        {
         "metadata": "{}",
         "name": "is_market_maker",
         "type": "\"string\""
        },
        {
         "metadata": "{}",
         "name": "ignore_field",
         "type": "\"string\""
        }
       ],
       "type": "table"
      }
     },
     "output_type": "display_data"
    }
   ],
   "source": [
    "%sql\n",
    "use catalog `streaming`; \n",
    "\n",
    "select * from `bronze`.`data` limit 100;"
   ]
  },
  {
   "cell_type": "code",
   "execution_count": null,
   "metadata": {
    "application/vnd.databricks.v1+cell": {
     "cellMetadata": {
      "byteLimit": 2048000,
      "rowLimit": 10000
     },
     "inputWidgets": {},
     "nuid": "46e8730c-7bd7-4ae2-9ba5-264f6b2177ff",
     "showTitle": false,
     "title": ""
    }
   },
   "outputs": [
    {
     "name": "stderr",
     "output_type": "stream",
     "text": [
      "INFO:py4j.clientserver:Received command c on object id p1\n",
      "INFO:py4j.clientserver:Received command c on object id p0\n",
      "INFO:py4j.clientserver:Received command c on object id p0\n",
      "INFO:py4j.clientserver:Received command c on object id p0\n"
     ]
    },
    {
     "data": {
      "text/plain": [
       "<pyspark.sql.streaming.query.StreamingQuery at 0x7fc6a04e3af0>"
      ]
     },
     "execution_count": 33,
     "metadata": {},
     "output_type": "execute_result"
    }
   ],
   "source": [
    "path_bronze = {\n",
    "    'catalog' :'streaming',\n",
    "    'schema' :'bronze',\n",
    "    'table' : 'data'\n",
    "}\n",
    "\n",
    "data_df.writeStream\\\n",
    "    .option(\"checkpointLocation\", f\"/mnt/{path_bronze['catalog']}/{path_bronze['schema']}/{path_bronze['table']}\")\\\n",
    "    .outputMode(\"append\")\\\n",
    "    .format(\"delta\")\\\n",
    "    .toTable(f\"{path_bronze['catalog']}.{path_bronze['schema']}.{path_bronze['table']}\")"
   ]
  }
 ],
 "metadata": {
  "application/vnd.databricks.v1+notebook": {
   "dashboards": [],
   "language": "python",
   "notebookMetadata": {
    "mostRecentlyExecutedCommandWithImplicitDF": {
     "commandId": 534766521166727,
     "dataframes": [
      "_sqldf"
     ]
    },
    "pythonIndentUnit": 4
   },
   "notebookName": "binancestream",
   "widgets": {}
  },
  "language_info": {
   "name": "python"
  }
 },
 "nbformat": 4,
 "nbformat_minor": 0
}
